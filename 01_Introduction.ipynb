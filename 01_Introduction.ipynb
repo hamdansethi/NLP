{
  "nbformat": 4,
  "nbformat_minor": 0,
  "metadata": {
    "colab": {
      "provenance": []
    },
    "kernelspec": {
      "name": "python3",
      "display_name": "Python 3"
    },
    "language_info": {
      "name": "python"
    }
  },
  "cells": [
    {
      "cell_type": "markdown",
      "source": [
        "## **Atheism/Science Text Classifier**"
      ],
      "metadata": {
        "id": "9WtjfckEeT2Z"
      }
    },
    {
      "cell_type": "code",
      "execution_count": null,
      "metadata": {
        "colab": {
          "base_uri": "https://localhost:8080/"
        },
        "id": "JyUWEUlXFUnr",
        "outputId": "769dd5ed-765d-4a2b-ad87-349ae1d1b4a4"
      },
      "outputs": [
        {
          "output_type": "stream",
          "name": "stdout",
          "text": [
            "'Religion is widespread, even in modern times' => alt.atheism\n",
            "'His kidney failed' => alt.atheism\n",
            "'The pope is a controversial leader' => sci.med\n",
            "'White blood cells fight off infections' => sci.med\n",
            "'The reverend had a heart attack in church' => sci.med\n"
          ]
        }
      ],
      "source": [
        "from sklearn.linear_model import Perceptron\n",
        "from sklearn.datasets import fetch_20newsgroups\n",
        "\n",
        "categories = ['alt.atheism', 'sci.med']\n",
        "\n",
        "train = fetch_20newsgroups(subset='train',categories=categories, shuffle=True)\n",
        "\n",
        "clf = Perceptron(max_iter=100)\n",
        "\n",
        "from sklearn.feature_extraction.text import CountVectorizer\n",
        "cv = CountVectorizer()\n",
        "X_train_counts = cv.fit_transform(train.data)\n",
        "\n",
        "from sklearn.feature_extraction.text import TfidfTransformer\n",
        "tfidf_tf = TfidfTransformer()\n",
        "X_train_tfidf = tfidf_tf.fit_transform(X_train_counts)\n",
        "\n",
        "clf.fit(X_train_tfidf,train.target)\n",
        "\n",
        "test_docs = ['Religion is widespread, even in modern times',\n",
        "            'His kidney failed','The pope is a controversial leader',\n",
        "            'White blood cells fight off infections',\n",
        "            'The reverend had a heart attack in church']\n",
        "\n",
        "X_test_counts = cv.transform(test_docs)\n",
        "X_test_tfidf = tfidf_tf.transform(X_test_counts)\n",
        "\n",
        "pred = clf.predict(X_test_tfidf)\n",
        "\n",
        "for doc, category in zip(test_docs, pred):\n",
        "  print('%r => %s' % (doc, train.target_names[category]))"
      ]
    },
    {
      "cell_type": "code",
      "source": [
        "test_docs = [\n",
        "    \"Doctors recommend regular exercise for a healthy heart.\",\n",
        "    \"Atheism is often misunderstood by many religious groups.\",\n",
        "    \"The patient was diagnosed with diabetes and high blood pressure.\",\n",
        "    \"The debate between science and religion continues to this day.\",\n",
        "    \"A new breakthrough in cancer treatment was announced by scientists.\",\n",
        "    \"The church organized a fundraiser for the local community.\",\n",
        "    \"Medical students must study anatomy extensively.\",\n",
        "    \"Many religious texts discuss the origin of life.\",\n",
        "    \"Vaccination rates are increasing across the globe.\",\n",
        "    \"Spiritual leaders gathered for an interfaith dialogue.\"\n",
        "]\n",
        "\n",
        "X_test_counts = cv.transform(test_docs)\n",
        "X_test_tfidf = tfidf_tf.transform(X_test_counts)\n",
        "\n",
        "pred = clf.predict(X_test_tfidf)\n",
        "\n",
        "for doc, category in zip(test_docs, pred):\n",
        "    print('%r => %s' % (doc, train.target_names[category]))\n"
      ],
      "metadata": {
        "colab": {
          "base_uri": "https://localhost:8080/"
        },
        "id": "_WuMlQbLlnOp",
        "outputId": "dded0382-b3fa-4baa-d48e-571c93c4dc49"
      },
      "execution_count": null,
      "outputs": [
        {
          "output_type": "stream",
          "name": "stdout",
          "text": [
            "'Doctors recommend regular exercise for a healthy heart.' => sci.med\n",
            "'Atheism is often misunderstood by many religious groups.' => alt.atheism\n",
            "'The patient was diagnosed with diabetes and high blood pressure.' => sci.med\n",
            "'The debate between science and religion continues to this day.' => alt.atheism\n",
            "'A new breakthrough in cancer treatment was announced by scientists.' => sci.med\n",
            "'The church organized a fundraiser for the local community.' => alt.atheism\n",
            "'Medical students must study anatomy extensively.' => sci.med\n",
            "'Many religious texts discuss the origin of life.' => alt.atheism\n",
            "'Vaccination rates are increasing across the globe.' => sci.med\n",
            "'Spiritual leaders gathered for an interfaith dialogue.' => alt.atheism\n"
          ]
        }
      ]
    },
    {
      "cell_type": "markdown",
      "source": [
        "## **Movie Sentiment Analyzer**"
      ],
      "metadata": {
        "id": "udhmTvphe97p"
      }
    },
    {
      "cell_type": "code",
      "source": [
        "# 10 Layers using Sigmoid ACtication Func\n",
        "\n",
        "from keras.models import Sequential\n",
        "from tensorflow.keras.utils import to_categorical\n",
        "from tensorflow.keras.preprocessing.text import Tokenizer\n",
        "from tensorflow.keras.layers import Dense, Activation\n",
        "\n",
        "import pandas as pd\n",
        "import sys\n",
        "import tensorflow as tf\n",
        "\n",
        "\n",
        "\n",
        "data = pd.read_csv(\"sentiment_dataset.tsv\",sep='\\t')\n",
        "\n",
        "docs=data[\"text\"]\n",
        "\n",
        "tokenizer = Tokenizer()\n",
        "tokenizer.fit_on_texts(docs)\n",
        "\n",
        "X_train = tokenizer.texts_to_matrix(docs, mode='binary')\n",
        "y_train = to_categorical(data[\"label\"])\n",
        "\n",
        "input_dim = X_train.shape[1]\n",
        "nb_classes = y_train.shape[1]\n",
        "\n",
        "model = Sequential()\n",
        "\n",
        "model.add(Dense(128, input_dim=input_dim))\n",
        "model.add(Activation('sigmoid'))\n",
        "model.add(Dense(128))\n",
        "model.add(Activation('sigmoid'))\n",
        "model.add(Dense(128))\n",
        "model.add(Activation('sigmoid'))\n",
        "model.add(Dense(128))\n",
        "model.add(Activation('sigmoid'))\n",
        "model.add(Dense(128))\n",
        "model.add(Activation('sigmoid'))\n",
        "model.add(Dense(128))\n",
        "model.add(Activation('sigmoid'))\n",
        "model.add(Dense(128))\n",
        "model.add(Activation('sigmoid'))\n",
        "model.add(Dense(128))\n",
        "model.add(Activation('sigmoid'))\n",
        "model.add(Dense(128))\n",
        "model.add(Activation('sigmoid'))\n",
        "model.add(Dense(128))\n",
        "model.add(Activation('sigmoid'))\n",
        "\n",
        "model.add(Dense(nb_classes))\n",
        "model.add(Activation('softmax'))\n",
        "\n",
        "model.compile(loss='binary_crossentropy',\n",
        "              optimizer='adam',\n",
        "              metrics=['accuracy'])\n",
        "\n",
        "print(\"Training...\")\n",
        "\n",
        "model.fit(X_train,\n",
        "          y_train,\n",
        "          epochs=10,\n",
        "          batch_size=32,\n",
        "          validation_split=0.1,\n",
        "          shuffle=False,\n",
        "          verbose=2)"
      ],
      "metadata": {
        "colab": {
          "base_uri": "https://localhost:8080/"
        },
        "id": "X_6Ou_WmnZhS",
        "outputId": "46ae4f6a-4197-46ed-8c28-e0c72fd62d2c"
      },
      "execution_count": null,
      "outputs": [
        {
          "output_type": "stream",
          "name": "stderr",
          "text": [
            "/usr/local/lib/python3.10/dist-packages/keras/src/layers/core/dense.py:87: UserWarning: Do not pass an `input_shape`/`input_dim` argument to a layer. When using Sequential models, prefer using an `Input(shape)` object as the first layer in the model instead.\n",
            "  super().__init__(activity_regularizer=activity_regularizer, **kwargs)\n"
          ]
        },
        {
          "output_type": "stream",
          "name": "stdout",
          "text": [
            "Training...\n",
            "Epoch 1/10\n",
            "300/300 - 18s - 60ms/step - accuracy: 0.5014 - loss: 0.6972 - val_accuracy: 0.4911 - val_loss: 0.6954\n",
            "Epoch 2/10\n",
            "300/300 - 16s - 54ms/step - accuracy: 0.5054 - loss: 0.6954 - val_accuracy: 0.4911 - val_loss: 0.6983\n",
            "Epoch 3/10\n",
            "300/300 - 21s - 70ms/step - accuracy: 0.5033 - loss: 0.6949 - val_accuracy: 0.4911 - val_loss: 0.6982\n",
            "Epoch 4/10\n",
            "300/300 - 19s - 64ms/step - accuracy: 0.5043 - loss: 0.6948 - val_accuracy: 0.4911 - val_loss: 0.6979\n",
            "Epoch 5/10\n",
            "300/300 - 10s - 35ms/step - accuracy: 0.5033 - loss: 0.6947 - val_accuracy: 0.4911 - val_loss: 0.6978\n",
            "Epoch 6/10\n",
            "300/300 - 21s - 71ms/step - accuracy: 0.5029 - loss: 0.6947 - val_accuracy: 0.4911 - val_loss: 0.6977\n",
            "Epoch 7/10\n",
            "300/300 - 21s - 69ms/step - accuracy: 0.5029 - loss: 0.6947 - val_accuracy: 0.4911 - val_loss: 0.6976\n",
            "Epoch 8/10\n",
            "300/300 - 20s - 68ms/step - accuracy: 0.5014 - loss: 0.6947 - val_accuracy: 0.4911 - val_loss: 0.6976\n",
            "Epoch 9/10\n",
            "300/300 - 20s - 66ms/step - accuracy: 0.5012 - loss: 0.6947 - val_accuracy: 0.4911 - val_loss: 0.6975\n",
            "Epoch 10/10\n",
            "300/300 - 21s - 69ms/step - accuracy: 0.5012 - loss: 0.6947 - val_accuracy: 0.4911 - val_loss: 0.6975\n"
          ]
        },
        {
          "output_type": "execute_result",
          "data": {
            "text/plain": [
              "<keras.src.callbacks.history.History at 0x78d8ddafd3f0>"
            ]
          },
          "metadata": {},
          "execution_count": 39
        }
      ]
    },
    {
      "cell_type": "markdown",
      "source": [
        "Relu -> max(0, x)"
      ],
      "metadata": {
        "id": "tfHe9Lz_fWID"
      }
    },
    {
      "cell_type": "code",
      "source": [
        "# 2 Layers using ReLU Activation Func\n",
        "\n",
        "from keras.models import Sequential\n",
        "from tensorflow.keras.utils import to_categorical\n",
        "from tensorflow.keras.preprocessing.text import Tokenizer\n",
        "from tensorflow.keras.layers import Dense, Activation\n",
        "\n",
        "import pandas as pd\n",
        "import sys\n",
        "import tensorflow as tf\n",
        "\n",
        "\n",
        "\n",
        "data = pd.read_csv(\"sentiment_dataset.tsv\",sep='\\t')\n",
        "\n",
        "docs=data[\"text\"]\n",
        "\n",
        "tokenizer = Tokenizer()\n",
        "tokenizer.fit_on_texts(docs)\n",
        "\n",
        "X_train = tokenizer.texts_to_matrix(docs, mode='binary')\n",
        "y_train = to_categorical(data[\"label\"])\n",
        "\n",
        "input_dim = X_train.shape[1]\n",
        "nb_classes = y_train.shape[1]\n",
        "\n",
        "model = Sequential()\n",
        "\n",
        "model.add(Dense(128, input_dim=input_dim))\n",
        "model.add(Activation('relu'))\n",
        "model.add(Dense(128))\n",
        "model.add(Activation('relu'))\n",
        "model.add(Dense(128))\n",
        "\n",
        "model.add(Dense(nb_classes))\n",
        "model.add(Activation('sigmoid'))\n",
        "\n",
        "model.compile(loss='binary_crossentropy',\n",
        "              optimizer='adam',\n",
        "              metrics=['accuracy'])\n",
        "\n",
        "print(\"Training...\")\n",
        "\n",
        "model.fit(X_train,\n",
        "          y_train,\n",
        "          epochs=10,\n",
        "          batch_size=32,\n",
        "          validation_split=0.1,\n",
        "          shuffle=False,\n",
        "          verbose=2)"
      ],
      "metadata": {
        "colab": {
          "base_uri": "https://localhost:8080/"
        },
        "outputId": "cc50e7ae-e7ff-406d-cd94-7b098919be65",
        "id": "hOT23EQjvlf6"
      },
      "execution_count": null,
      "outputs": [
        {
          "output_type": "stream",
          "name": "stderr",
          "text": [
            "/usr/local/lib/python3.10/dist-packages/keras/src/layers/core/dense.py:87: UserWarning: Do not pass an `input_shape`/`input_dim` argument to a layer. When using Sequential models, prefer using an `Input(shape)` object as the first layer in the model instead.\n",
            "  super().__init__(activity_regularizer=activity_regularizer, **kwargs)\n"
          ]
        },
        {
          "output_type": "stream",
          "name": "stdout",
          "text": [
            "Training...\n",
            "Epoch 1/10\n",
            "300/300 - 12s - 40ms/step - accuracy: 0.7128 - loss: 0.5483 - val_accuracy: 0.7732 - val_loss: 0.4746\n",
            "Epoch 2/10\n",
            "300/300 - 11s - 38ms/step - accuracy: 0.9305 - loss: 0.1630 - val_accuracy: 0.7535 - val_loss: 0.7675\n",
            "Epoch 3/10\n",
            "300/300 - 20s - 66ms/step - accuracy: 0.9917 - loss: 0.0227 - val_accuracy: 0.7610 - val_loss: 1.1936\n",
            "Epoch 4/10\n",
            "300/300 - 11s - 36ms/step - accuracy: 0.9982 - loss: 0.0048 - val_accuracy: 0.7591 - val_loss: 1.5600\n",
            "Epoch 5/10\n",
            "300/300 - 9s - 31ms/step - accuracy: 0.9993 - loss: 0.0025 - val_accuracy: 0.7591 - val_loss: 1.7354\n",
            "Epoch 6/10\n",
            "300/300 - 11s - 38ms/step - accuracy: 1.0000 - loss: 2.7384e-04 - val_accuracy: 0.7535 - val_loss: 1.8746\n",
            "Epoch 7/10\n",
            "300/300 - 10s - 35ms/step - accuracy: 1.0000 - loss: 2.8699e-05 - val_accuracy: 0.7545 - val_loss: 1.9240\n",
            "Epoch 8/10\n",
            "300/300 - 21s - 71ms/step - accuracy: 1.0000 - loss: 1.9826e-05 - val_accuracy: 0.7545 - val_loss: 1.9670\n",
            "Epoch 9/10\n",
            "300/300 - 13s - 42ms/step - accuracy: 1.0000 - loss: 1.4718e-05 - val_accuracy: 0.7554 - val_loss: 2.0064\n",
            "Epoch 10/10\n",
            "300/300 - 13s - 44ms/step - accuracy: 1.0000 - loss: 1.1262e-05 - val_accuracy: 0.7554 - val_loss: 2.0435\n"
          ]
        },
        {
          "output_type": "execute_result",
          "data": {
            "text/plain": [
              "<keras.src.callbacks.history.History at 0x78d8ddf8b580>"
            ]
          },
          "metadata": {},
          "execution_count": 41
        }
      ]
    },
    {
      "cell_type": "code",
      "source": [
        "from keras.models import Sequential\n",
        "from tensorflow.keras.utils import to_categorical\n",
        "from tensorflow.keras.preprocessing.text import Tokenizer\n",
        "from tensorflow.keras.layers import Dense, Activation\n",
        "\n",
        "import pandas as pd\n",
        "import sys\n",
        "import tensorflow as tf\n",
        "\n",
        "\n",
        "\n",
        "data = pd.read_csv(\"sentiment_dataset.tsv\",sep='\\t')\n",
        "\n",
        "docs=data[\"text\"]\n",
        "\n",
        "tokenizer = Tokenizer()\n",
        "tokenizer.fit_on_texts(docs)\n",
        "\n",
        "X_train = tokenizer.texts_to_matrix(docs, mode='binary')\n",
        "y_train = to_categorical(data[\"label\"])\n",
        "\n",
        "input_dim = X_train.shape[1]\n",
        "nb_classes = y_train.shape[1]\n",
        "\n",
        "model = Sequential()\n",
        "\n",
        "model.add(Dense(128, input_dim=input_dim))\n",
        "model.add(Activation('relu'))\n",
        "model.add(Dense(128))\n",
        "model.add(Activation('relu'))\n",
        "model.add(Dense(128))\n",
        "\n",
        "model.add(Dense(nb_classes))\n",
        "model.add(Activation('softmax'))\n",
        "\n",
        "model.compile(loss='binary_crossentropy',\n",
        "              optimizer='adam',\n",
        "              metrics=['accuracy'])\n",
        "\n",
        "print(\"Training...\")\n",
        "\n",
        "model.fit(X_train,\n",
        "          y_train,\n",
        "          epochs=10,\n",
        "          batch_size=32,\n",
        "          validation_split=0.1,\n",
        "          shuffle=False,\n",
        "          verbose=2)"
      ],
      "metadata": {
        "colab": {
          "base_uri": "https://localhost:8080/"
        },
        "outputId": "6a969acc-9c5a-4bdc-fde6-2dd0a46e7edc",
        "id": "xHA4Cfx2wbhZ"
      },
      "execution_count": null,
      "outputs": [
        {
          "output_type": "stream",
          "name": "stderr",
          "text": [
            "/usr/local/lib/python3.10/dist-packages/keras/src/layers/core/dense.py:87: UserWarning: Do not pass an `input_shape`/`input_dim` argument to a layer. When using Sequential models, prefer using an `Input(shape)` object as the first layer in the model instead.\n",
            "  super().__init__(activity_regularizer=activity_regularizer, **kwargs)\n"
          ]
        },
        {
          "output_type": "stream",
          "name": "stdout",
          "text": [
            "Training...\n",
            "Epoch 1/10\n",
            "300/300 - 11s - 38ms/step - accuracy: 0.7140 - loss: 0.5480 - val_accuracy: 0.7760 - val_loss: 0.4716\n",
            "Epoch 2/10\n",
            "300/300 - 10s - 32ms/step - accuracy: 0.9307 - loss: 0.1637 - val_accuracy: 0.7619 - val_loss: 0.7332\n",
            "Epoch 3/10\n",
            "300/300 - 11s - 35ms/step - accuracy: 0.9908 - loss: 0.0240 - val_accuracy: 0.7676 - val_loss: 1.1550\n",
            "Epoch 4/10\n",
            "300/300 - 10s - 35ms/step - accuracy: 0.9995 - loss: 0.0021 - val_accuracy: 0.7666 - val_loss: 1.5560\n",
            "Epoch 5/10\n",
            "300/300 - 10s - 34ms/step - accuracy: 1.0000 - loss: 1.9827e-04 - val_accuracy: 0.7676 - val_loss: 1.6844\n",
            "Epoch 6/10\n",
            "300/300 - 14s - 46ms/step - accuracy: 1.0000 - loss: 8.0125e-05 - val_accuracy: 0.7676 - val_loss: 1.7751\n",
            "Epoch 7/10\n",
            "300/300 - 17s - 56ms/step - accuracy: 1.0000 - loss: 4.7104e-05 - val_accuracy: 0.7676 - val_loss: 1.8491\n",
            "Epoch 8/10\n",
            "300/300 - 9s - 30ms/step - accuracy: 1.0000 - loss: 3.0667e-05 - val_accuracy: 0.7685 - val_loss: 1.9128\n",
            "Epoch 9/10\n",
            "300/300 - 11s - 38ms/step - accuracy: 1.0000 - loss: 2.1224e-05 - val_accuracy: 0.7694 - val_loss: 1.9689\n",
            "Epoch 10/10\n",
            "300/300 - 10s - 33ms/step - accuracy: 1.0000 - loss: 1.5253e-05 - val_accuracy: 0.7694 - val_loss: 2.0204\n"
          ]
        },
        {
          "output_type": "execute_result",
          "data": {
            "text/plain": [
              "<keras.src.callbacks.history.History at 0x78d8dddc34c0>"
            ]
          },
          "metadata": {},
          "execution_count": 42
        }
      ]
    },
    {
      "cell_type": "markdown",
      "source": [
        "## **Tokenization**"
      ],
      "metadata": {
        "id": "sVKGSQU7dP6Q"
      }
    },
    {
      "cell_type": "code",
      "source": [
        "docs = ['smart and alert , thirteen conversations about one thing is a smallgem','not very smart movie']\n",
        "tok=Tokenizer()\n",
        "tok.fit_on_texts(docs)\n",
        "tok.texts_to_matrix(doc, mode='binary')"
      ],
      "metadata": {
        "colab": {
          "base_uri": "https://localhost:8080/"
        },
        "id": "ntLsPqYgqKly",
        "outputId": "c7d4ecba-9dea-400a-9a16-49a47a0f1a40"
      },
      "execution_count": null,
      "outputs": [
        {
          "output_type": "execute_result",
          "data": {
            "text/plain": [
              "array([[0., 0., 0., 0., 0., 0., 0., 0., 0., 0., 0., 0., 0., 0., 0.],\n",
              "       [0., 0., 0., 0., 0., 0., 0., 0., 0., 0., 0., 0., 0., 0., 0.],\n",
              "       [0., 0., 0., 0., 0., 0., 0., 0., 0., 0., 0., 0., 0., 0., 0.],\n",
              "       [0., 0., 0., 0., 0., 0., 0., 0., 0., 0., 0., 0., 0., 0., 0.],\n",
              "       [0., 0., 0., 0., 0., 0., 0., 0., 0., 0., 0., 0., 0., 0., 0.],\n",
              "       [0., 0., 0., 0., 0., 0., 0., 0., 0., 0., 0., 0., 0., 0., 0.],\n",
              "       [0., 0., 0., 0., 0., 0., 0., 0., 0., 0., 0., 0., 0., 0., 0.],\n",
              "       [0., 0., 0., 0., 0., 0., 0., 0., 0., 0., 1., 0., 0., 0., 0.],\n",
              "       [0., 0., 0., 0., 0., 0., 0., 0., 0., 0., 0., 0., 0., 0., 0.],\n",
              "       [0., 0., 0., 0., 0., 0., 0., 0., 0., 0., 0., 0., 0., 0., 0.],\n",
              "       [0., 0., 0., 0., 0., 0., 0., 0., 0., 0., 0., 0., 0., 0., 0.],\n",
              "       [0., 0., 0., 0., 0., 0., 0., 0., 0., 0., 0., 0., 0., 0., 0.],\n",
              "       [0., 0., 0., 0., 0., 0., 0., 0., 0., 0., 1., 0., 0., 0., 0.],\n",
              "       [0., 0., 0., 0., 0., 0., 0., 0., 0., 0., 0., 0., 0., 0., 0.],\n",
              "       [0., 0., 0., 0., 0., 0., 0., 0., 0., 0., 0., 0., 0., 0., 0.],\n",
              "       [0., 0., 0., 0., 0., 0., 0., 0., 0., 0., 0., 0., 0., 0., 0.],\n",
              "       [0., 0., 0., 0., 0., 0., 0., 0., 0., 0., 0., 0., 0., 0., 0.],\n",
              "       [0., 0., 0., 0., 0., 0., 0., 0., 0., 0., 0., 0., 0., 0., 0.],\n",
              "       [0., 0., 0., 0., 0., 0., 0., 0., 0., 0., 0., 0., 0., 0., 0.],\n",
              "       [0., 0., 0., 0., 0., 0., 0., 0., 0., 0., 1., 0., 0., 0., 0.],\n",
              "       [0., 0., 0., 0., 0., 0., 0., 0., 0., 0., 0., 0., 0., 0., 0.],\n",
              "       [0., 0., 0., 0., 0., 0., 0., 0., 0., 0., 0., 0., 0., 0., 0.],\n",
              "       [0., 0., 0., 0., 0., 0., 0., 0., 0., 0., 0., 0., 0., 0., 0.],\n",
              "       [0., 0., 0., 0., 0., 0., 0., 0., 0., 0., 0., 0., 0., 0., 0.],\n",
              "       [0., 0., 0., 0., 0., 0., 0., 0., 0., 0., 0., 0., 0., 0., 0.],\n",
              "       [0., 0., 0., 0., 0., 0., 0., 0., 0., 0., 0., 0., 0., 0., 0.],\n",
              "       [0., 0., 0., 0., 0., 0., 0., 0., 0., 0., 0., 0., 0., 0., 0.],\n",
              "       [0., 0., 0., 0., 0., 0., 0., 0., 0., 0., 0., 0., 0., 0., 0.],\n",
              "       [0., 0., 0., 0., 0., 0., 0., 0., 0., 0., 0., 0., 0., 0., 0.],\n",
              "       [0., 0., 0., 0., 0., 0., 0., 0., 0., 0., 0., 0., 0., 0., 0.],\n",
              "       [0., 0., 0., 0., 0., 0., 0., 0., 0., 0., 0., 0., 0., 0., 0.],\n",
              "       [0., 0., 0., 0., 0., 0., 0., 0., 0., 0., 1., 0., 0., 0., 0.],\n",
              "       [0., 0., 0., 0., 0., 0., 0., 0., 0., 0., 0., 0., 0., 0., 0.],\n",
              "       [0., 0., 0., 0., 0., 0., 0., 0., 0., 0., 0., 0., 0., 0., 0.],\n",
              "       [0., 0., 0., 0., 0., 0., 0., 0., 0., 0., 0., 0., 0., 0., 0.],\n",
              "       [0., 0., 0., 0., 0., 0., 0., 0., 0., 0., 0., 0., 0., 0., 0.],\n",
              "       [0., 0., 0., 0., 0., 0., 0., 0., 0., 0., 0., 0., 0., 0., 0.],\n",
              "       [0., 0., 0., 0., 0., 0., 0., 0., 0., 0., 0., 0., 0., 0., 0.],\n",
              "       [0., 0., 0., 0., 0., 0., 0., 0., 0., 0., 0., 0., 0., 0., 0.],\n",
              "       [0., 0., 0., 0., 0., 0., 0., 0., 0., 0., 0., 0., 0., 0., 0.],\n",
              "       [0., 0., 0., 0., 0., 0., 0., 0., 0., 0., 1., 0., 0., 0., 0.],\n",
              "       [0., 0., 0., 0., 0., 0., 0., 0., 0., 0., 0., 0., 0., 0., 0.],\n",
              "       [0., 0., 0., 0., 0., 0., 0., 0., 0., 0., 0., 0., 0., 0., 0.],\n",
              "       [0., 0., 0., 0., 0., 0., 0., 0., 0., 0., 0., 0., 0., 0., 0.],\n",
              "       [0., 0., 0., 0., 0., 0., 0., 0., 0., 0., 0., 0., 0., 0., 0.],\n",
              "       [0., 0., 0., 0., 0., 0., 0., 0., 0., 0., 0., 0., 0., 0., 0.],\n",
              "       [0., 0., 0., 0., 0., 0., 0., 0., 0., 0., 0., 0., 0., 0., 0.],\n",
              "       [0., 0., 0., 0., 0., 0., 0., 0., 0., 0., 1., 0., 0., 0., 0.],\n",
              "       [0., 0., 0., 0., 0., 0., 0., 0., 0., 0., 0., 0., 0., 0., 0.],\n",
              "       [0., 0., 0., 0., 0., 0., 0., 0., 0., 0., 0., 0., 0., 0., 0.],\n",
              "       [0., 0., 0., 0., 0., 0., 0., 0., 0., 0., 0., 0., 0., 0., 0.],\n",
              "       [0., 0., 0., 0., 0., 0., 0., 0., 0., 0., 0., 0., 0., 0., 0.],\n",
              "       [0., 0., 0., 0., 0., 0., 0., 0., 0., 0., 0., 0., 0., 0., 0.],\n",
              "       [0., 0., 0., 0., 0., 0., 0., 0., 0., 0., 0., 0., 0., 0., 0.]])"
            ]
          },
          "metadata": {},
          "execution_count": 25
        }
      ]
    },
    {
      "cell_type": "code",
      "source": [
        "tok.word_index"
      ],
      "metadata": {
        "colab": {
          "base_uri": "https://localhost:8080/"
        },
        "id": "tv9SUpFPqXAq",
        "outputId": "22df081f-3a40-4236-92fe-7c9d58eda6f9"
      },
      "execution_count": null,
      "outputs": [
        {
          "output_type": "execute_result",
          "data": {
            "text/plain": [
              "{'smart': 1,\n",
              " 'and': 2,\n",
              " 'alert': 3,\n",
              " 'thirteen': 4,\n",
              " 'conversations': 5,\n",
              " 'about': 6,\n",
              " 'one': 7,\n",
              " 'thing': 8,\n",
              " 'is': 9,\n",
              " 'a': 10,\n",
              " 'smallgem': 11,\n",
              " 'not': 12,\n",
              " 'very': 13,\n",
              " 'movie': 14}"
            ]
          },
          "metadata": {},
          "execution_count": 26
        }
      ]
    },
    {
      "cell_type": "code",
      "source": [
        "from google.colab import files #Uploading Files\n",
        "uploaded = files.upload()"
      ],
      "metadata": {
        "colab": {
          "base_uri": "https://localhost:8080/",
          "height": 73
        },
        "id": "H3Prwwk6s2zg",
        "outputId": "026b9cb3-1e0e-405c-cd9f-640adc0ffe1d"
      },
      "execution_count": null,
      "outputs": [
        {
          "output_type": "display_data",
          "data": {
            "text/plain": [
              "<IPython.core.display.HTML object>"
            ],
            "text/html": [
              "\n",
              "     <input type=\"file\" id=\"files-fda91a94-4fbd-4536-833c-9552c45fabd7\" name=\"files[]\" multiple disabled\n",
              "        style=\"border:none\" />\n",
              "     <output id=\"result-fda91a94-4fbd-4536-833c-9552c45fabd7\">\n",
              "      Upload widget is only available when the cell has been executed in the\n",
              "      current browser session. Please rerun this cell to enable.\n",
              "      </output>\n",
              "      <script>// Copyright 2017 Google LLC\n",
              "//\n",
              "// Licensed under the Apache License, Version 2.0 (the \"License\");\n",
              "// you may not use this file except in compliance with the License.\n",
              "// You may obtain a copy of the License at\n",
              "//\n",
              "//      http://www.apache.org/licenses/LICENSE-2.0\n",
              "//\n",
              "// Unless required by applicable law or agreed to in writing, software\n",
              "// distributed under the License is distributed on an \"AS IS\" BASIS,\n",
              "// WITHOUT WARRANTIES OR CONDITIONS OF ANY KIND, either express or implied.\n",
              "// See the License for the specific language governing permissions and\n",
              "// limitations under the License.\n",
              "\n",
              "/**\n",
              " * @fileoverview Helpers for google.colab Python module.\n",
              " */\n",
              "(function(scope) {\n",
              "function span(text, styleAttributes = {}) {\n",
              "  const element = document.createElement('span');\n",
              "  element.textContent = text;\n",
              "  for (const key of Object.keys(styleAttributes)) {\n",
              "    element.style[key] = styleAttributes[key];\n",
              "  }\n",
              "  return element;\n",
              "}\n",
              "\n",
              "// Max number of bytes which will be uploaded at a time.\n",
              "const MAX_PAYLOAD_SIZE = 100 * 1024;\n",
              "\n",
              "function _uploadFiles(inputId, outputId) {\n",
              "  const steps = uploadFilesStep(inputId, outputId);\n",
              "  const outputElement = document.getElementById(outputId);\n",
              "  // Cache steps on the outputElement to make it available for the next call\n",
              "  // to uploadFilesContinue from Python.\n",
              "  outputElement.steps = steps;\n",
              "\n",
              "  return _uploadFilesContinue(outputId);\n",
              "}\n",
              "\n",
              "// This is roughly an async generator (not supported in the browser yet),\n",
              "// where there are multiple asynchronous steps and the Python side is going\n",
              "// to poll for completion of each step.\n",
              "// This uses a Promise to block the python side on completion of each step,\n",
              "// then passes the result of the previous step as the input to the next step.\n",
              "function _uploadFilesContinue(outputId) {\n",
              "  const outputElement = document.getElementById(outputId);\n",
              "  const steps = outputElement.steps;\n",
              "\n",
              "  const next = steps.next(outputElement.lastPromiseValue);\n",
              "  return Promise.resolve(next.value.promise).then((value) => {\n",
              "    // Cache the last promise value to make it available to the next\n",
              "    // step of the generator.\n",
              "    outputElement.lastPromiseValue = value;\n",
              "    return next.value.response;\n",
              "  });\n",
              "}\n",
              "\n",
              "/**\n",
              " * Generator function which is called between each async step of the upload\n",
              " * process.\n",
              " * @param {string} inputId Element ID of the input file picker element.\n",
              " * @param {string} outputId Element ID of the output display.\n",
              " * @return {!Iterable<!Object>} Iterable of next steps.\n",
              " */\n",
              "function* uploadFilesStep(inputId, outputId) {\n",
              "  const inputElement = document.getElementById(inputId);\n",
              "  inputElement.disabled = false;\n",
              "\n",
              "  const outputElement = document.getElementById(outputId);\n",
              "  outputElement.innerHTML = '';\n",
              "\n",
              "  const pickedPromise = new Promise((resolve) => {\n",
              "    inputElement.addEventListener('change', (e) => {\n",
              "      resolve(e.target.files);\n",
              "    });\n",
              "  });\n",
              "\n",
              "  const cancel = document.createElement('button');\n",
              "  inputElement.parentElement.appendChild(cancel);\n",
              "  cancel.textContent = 'Cancel upload';\n",
              "  const cancelPromise = new Promise((resolve) => {\n",
              "    cancel.onclick = () => {\n",
              "      resolve(null);\n",
              "    };\n",
              "  });\n",
              "\n",
              "  // Wait for the user to pick the files.\n",
              "  const files = yield {\n",
              "    promise: Promise.race([pickedPromise, cancelPromise]),\n",
              "    response: {\n",
              "      action: 'starting',\n",
              "    }\n",
              "  };\n",
              "\n",
              "  cancel.remove();\n",
              "\n",
              "  // Disable the input element since further picks are not allowed.\n",
              "  inputElement.disabled = true;\n",
              "\n",
              "  if (!files) {\n",
              "    return {\n",
              "      response: {\n",
              "        action: 'complete',\n",
              "      }\n",
              "    };\n",
              "  }\n",
              "\n",
              "  for (const file of files) {\n",
              "    const li = document.createElement('li');\n",
              "    li.append(span(file.name, {fontWeight: 'bold'}));\n",
              "    li.append(span(\n",
              "        `(${file.type || 'n/a'}) - ${file.size} bytes, ` +\n",
              "        `last modified: ${\n",
              "            file.lastModifiedDate ? file.lastModifiedDate.toLocaleDateString() :\n",
              "                                    'n/a'} - `));\n",
              "    const percent = span('0% done');\n",
              "    li.appendChild(percent);\n",
              "\n",
              "    outputElement.appendChild(li);\n",
              "\n",
              "    const fileDataPromise = new Promise((resolve) => {\n",
              "      const reader = new FileReader();\n",
              "      reader.onload = (e) => {\n",
              "        resolve(e.target.result);\n",
              "      };\n",
              "      reader.readAsArrayBuffer(file);\n",
              "    });\n",
              "    // Wait for the data to be ready.\n",
              "    let fileData = yield {\n",
              "      promise: fileDataPromise,\n",
              "      response: {\n",
              "        action: 'continue',\n",
              "      }\n",
              "    };\n",
              "\n",
              "    // Use a chunked sending to avoid message size limits. See b/62115660.\n",
              "    let position = 0;\n",
              "    do {\n",
              "      const length = Math.min(fileData.byteLength - position, MAX_PAYLOAD_SIZE);\n",
              "      const chunk = new Uint8Array(fileData, position, length);\n",
              "      position += length;\n",
              "\n",
              "      const base64 = btoa(String.fromCharCode.apply(null, chunk));\n",
              "      yield {\n",
              "        response: {\n",
              "          action: 'append',\n",
              "          file: file.name,\n",
              "          data: base64,\n",
              "        },\n",
              "      };\n",
              "\n",
              "      let percentDone = fileData.byteLength === 0 ?\n",
              "          100 :\n",
              "          Math.round((position / fileData.byteLength) * 100);\n",
              "      percent.textContent = `${percentDone}% done`;\n",
              "\n",
              "    } while (position < fileData.byteLength);\n",
              "  }\n",
              "\n",
              "  // All done.\n",
              "  yield {\n",
              "    response: {\n",
              "      action: 'complete',\n",
              "    }\n",
              "  };\n",
              "}\n",
              "\n",
              "scope.google = scope.google || {};\n",
              "scope.google.colab = scope.google.colab || {};\n",
              "scope.google.colab._files = {\n",
              "  _uploadFiles,\n",
              "  _uploadFilesContinue,\n",
              "};\n",
              "})(self);\n",
              "</script> "
            ]
          },
          "metadata": {}
        },
        {
          "output_type": "stream",
          "name": "stdout",
          "text": [
            "Saving rt-polaritydata.tar.gz to rt-polaritydata.tar.gz\n"
          ]
        }
      ]
    },
    {
      "cell_type": "code",
      "source": [
        "import os\n",
        "print(os.listdir())"
      ],
      "metadata": {
        "colab": {
          "base_uri": "https://localhost:8080/"
        },
        "id": "lUvJHmYStASx",
        "outputId": "fa8d1395-30d7-4a5c-c0f5-2da0d8a87607"
      },
      "execution_count": null,
      "outputs": [
        {
          "output_type": "stream",
          "name": "stdout",
          "text": [
            "['.config', 'rt-polaritydata.tar.gz', 'sample_data']\n"
          ]
        }
      ]
    },
    {
      "cell_type": "code",
      "source": [
        "import tarfile\n",
        "\n",
        "file_name = \"rt-polaritydata.tar.gz\"\n",
        "\n",
        "with tarfile.open(file_name, \"r:gz\") as tar:\n",
        "    tar.extractall(\"extracted_data\")\n",
        "    print(\"Extraction complete!\")"
      ],
      "metadata": {
        "colab": {
          "base_uri": "https://localhost:8080/"
        },
        "id": "fSnXGMwgtErb",
        "outputId": "801a8e22-6eb6-42a6-cab7-6737afc55c9f"
      },
      "execution_count": null,
      "outputs": [
        {
          "output_type": "stream",
          "name": "stdout",
          "text": [
            "Extraction complete!\n"
          ]
        }
      ]
    },
    {
      "cell_type": "code",
      "source": [
        "extracted_path = \"extracted_data\"\n",
        "print(os.listdir(extracted_path))"
      ],
      "metadata": {
        "colab": {
          "base_uri": "https://localhost:8080/"
        },
        "id": "q0yikhJFtN48",
        "outputId": "24c6cf96-ef21-4dcf-fff1-ce04624c64b4"
      },
      "execution_count": null,
      "outputs": [
        {
          "output_type": "stream",
          "name": "stdout",
          "text": [
            "['rt-polaritydata.README.1.0.txt', 'rt-polaritydata']\n"
          ]
        }
      ]
    },
    {
      "cell_type": "code",
      "source": [
        "extracted_path = \"extracted_data/rt-polaritydata\"\n",
        "print(os.listdir(extracted_path))"
      ],
      "metadata": {
        "colab": {
          "base_uri": "https://localhost:8080/"
        },
        "id": "VdbJx4KxtZCi",
        "outputId": "0ad01139-2f4a-46fe-8f6a-20ed664ed42b"
      },
      "execution_count": null,
      "outputs": [
        {
          "output_type": "stream",
          "name": "stdout",
          "text": [
            "['rt-polarity.neg', 'rt-polarity.pos']\n"
          ]
        }
      ]
    },
    {
      "cell_type": "code",
      "source": [
        "import pandas as pd\n",
        "import os\n",
        "\n",
        "neg_file = os.path.join(extracted_path, \"rt-polarity.neg\")\n",
        "pos_file = os.path.join(extracted_path, \"rt-polarity.pos\")\n",
        "\n",
        "with open(pos_file, 'r', encoding='latin-1') as f:\n",
        "    positive_sentences = f.readlines()\n",
        "\n",
        "with open(neg_file, 'r', encoding='latin-1') as f:\n",
        "    negative_sentences = f.readlines()\n",
        "\n",
        "data = pd.DataFrame({\n",
        "    'text': positive_sentences + negative_sentences,\n",
        "    'label': [1] * len(positive_sentences) + [0] * len(negative_sentences)  # 1 = Positive, 0 = Negative\n",
        "})\n",
        "\n",
        "data = data.sample(frac=1, random_state=42).reset_index(drop=True)\n",
        "\n",
        "print(data.head())\n"
      ],
      "metadata": {
        "colab": {
          "base_uri": "https://localhost:8080/"
        },
        "id": "6aW8fErltdpS",
        "outputId": "cf80069e-5443-46e9-a8a2-913e37f9f721"
      },
      "execution_count": null,
      "outputs": [
        {
          "output_type": "stream",
          "name": "stdout",
          "text": [
            "                                                text  label\n",
            "0  a dark , dull thriller with a parting shot tha...      0\n",
            "1  director chris eyre is going through the paces...      0\n",
            "2  although it lacks the detail of the book , the...      1\n",
            "3  the script by david koepp is perfectly service...      1\n",
            "4  an exciting and involving rock music doc , a s...      1\n"
          ]
        }
      ]
    },
    {
      "cell_type": "code",
      "source": [
        "data.to_csv(\"sentiment_dataset.tsv\", sep='\\t', index=False)\n",
        "print(\"Dataset saved as 'sentiment_dataset.tsv'\")"
      ],
      "metadata": {
        "colab": {
          "base_uri": "https://localhost:8080/"
        },
        "id": "r8JgpAaIuGTK",
        "outputId": "efa19a4e-768e-4e00-d1aa-28d44381150f"
      },
      "execution_count": null,
      "outputs": [
        {
          "output_type": "stream",
          "name": "stdout",
          "text": [
            "Dataset saved as 'sentiment_dataset.tsv'\n"
          ]
        }
      ]
    },
    {
      "cell_type": "code",
      "source": [
        "files.download('sentiment_dataset.tsv')"
      ],
      "metadata": {
        "colab": {
          "base_uri": "https://localhost:8080/",
          "height": 17
        },
        "id": "boJvESVhuMD6",
        "outputId": "4da876d5-2277-4fd7-8877-d7fdfee53289"
      },
      "execution_count": null,
      "outputs": [
        {
          "output_type": "display_data",
          "data": {
            "text/plain": [
              "<IPython.core.display.Javascript object>"
            ],
            "application/javascript": [
              "\n",
              "    async function download(id, filename, size) {\n",
              "      if (!google.colab.kernel.accessAllowed) {\n",
              "        return;\n",
              "      }\n",
              "      const div = document.createElement('div');\n",
              "      const label = document.createElement('label');\n",
              "      label.textContent = `Downloading \"${filename}\": `;\n",
              "      div.appendChild(label);\n",
              "      const progress = document.createElement('progress');\n",
              "      progress.max = size;\n",
              "      div.appendChild(progress);\n",
              "      document.body.appendChild(div);\n",
              "\n",
              "      const buffers = [];\n",
              "      let downloaded = 0;\n",
              "\n",
              "      const channel = await google.colab.kernel.comms.open(id);\n",
              "      // Send a message to notify the kernel that we're ready.\n",
              "      channel.send({})\n",
              "\n",
              "      for await (const message of channel.messages) {\n",
              "        // Send a message to notify the kernel that we're ready.\n",
              "        channel.send({})\n",
              "        if (message.buffers) {\n",
              "          for (const buffer of message.buffers) {\n",
              "            buffers.push(buffer);\n",
              "            downloaded += buffer.byteLength;\n",
              "            progress.value = downloaded;\n",
              "          }\n",
              "        }\n",
              "      }\n",
              "      const blob = new Blob(buffers, {type: 'application/binary'});\n",
              "      const a = document.createElement('a');\n",
              "      a.href = window.URL.createObjectURL(blob);\n",
              "      a.download = filename;\n",
              "      div.appendChild(a);\n",
              "      a.click();\n",
              "      div.remove();\n",
              "    }\n",
              "  "
            ]
          },
          "metadata": {}
        },
        {
          "output_type": "display_data",
          "data": {
            "text/plain": [
              "<IPython.core.display.Javascript object>"
            ],
            "application/javascript": [
              "download(\"download_06dfcd91-a67b-48c6-84e3-e8820087b794\", \"sentiment_dataset.tsv\", 1292784)"
            ]
          },
          "metadata": {}
        }
      ]
    }
  ]
}
